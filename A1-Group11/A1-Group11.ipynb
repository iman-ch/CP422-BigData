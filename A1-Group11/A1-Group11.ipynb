{
 "cells": [
  {
   "cell_type": "markdown",
   "metadata": {
    "application/vnd.databricks.v1+cell": {
     "cellMetadata": {
      "byteLimit": 2048000,
      "rowLimit": 10000
     },
     "inputWidgets": {},
     "nuid": "afb1570e-eb31-46ea-89fb-bfbc11f97dd3",
     "showTitle": false,
     "title": ""
    }
   },
   "source": [
    "# Part A: Basic Prescriptive Analytics"
   ]
  },
  {
   "cell_type": "code",
   "execution_count": 10,
   "metadata": {
    "application/vnd.databricks.v1+cell": {
     "cellMetadata": {
      "byteLimit": 2048000,
      "rowLimit": 10000
     },
     "inputWidgets": {},
     "nuid": "78655fe3-408d-4bc6-8b1e-2100904e6f35",
     "showTitle": false,
     "title": ""
    }
   },
   "outputs": [],
   "source": [
    "# imports \n",
    "from pyspark.sql import SparkSession\n",
    "from pyspark.sql.functions import col, unix_timestamp, avg, hour, count, round\n",
    "from pyspark.sql.types import TimestampType\n",
    "from shapely.geometry import Point\n",
    "from pyspark.ml.clustering import KMeans\n",
    "from pyspark.ml.feature import VectorAssembler\n",
    "\n",
    "import pandas as pd\n",
    "import geopandas as gpd\n",
    "\n",
    "import matplotlib.pyplot as plt\n",
    "import seaborn as sns\n",
    "import numpy as np"
   ]
  },
  {
   "cell_type": "markdown",
   "metadata": {
    "application/vnd.databricks.v1+cell": {
     "cellMetadata": {
      "byteLimit": 2048000,
      "rowLimit": 10000
     },
     "inputWidgets": {},
     "nuid": "6e8d9c87-2325-4f36-9b7b-6db5f0664f7f",
     "showTitle": false,
     "title": ""
    }
   },
   "source": [
    "**Data Ingestion**"
   ]
  },
  {
   "cell_type": "code",
   "execution_count": 2,
   "metadata": {
    "application/vnd.databricks.v1+cell": {
     "cellMetadata": {
      "byteLimit": 2048000,
      "rowLimit": 10000
     },
     "inputWidgets": {},
     "nuid": "6ec50b69-6151-462c-a97c-d3c46c9f14d7",
     "showTitle": false,
     "title": ""
    }
   },
   "outputs": [],
   "source": [
    "# a) initialize spark session\n",
    "spark = SparkSession.builder.appName(\"NYC Taxi Data\").getOrCreate()\n",
    "\n",
    "# b) load dataset\n",
    "df = spark.read.format(\"csv\").option(\"header\", \"true\").load(\"yellow_tripdata_2015-01.csv\")"
   ]
  },
  {
   "cell_type": "markdown",
   "metadata": {
    "application/vnd.databricks.v1+cell": {
     "cellMetadata": {
      "byteLimit": 2048000,
      "rowLimit": 10000
     },
     "inputWidgets": {},
     "nuid": "3758e054-2cb9-41d3-a2ef-06e705cd6a6c",
     "showTitle": false,
     "title": ""
    }
   },
   "source": [
    "**Initial Data Exploration**"
   ]
  },
  {
   "cell_type": "code",
   "execution_count": 3,
   "metadata": {
    "application/vnd.databricks.v1+cell": {
     "cellMetadata": {
      "byteLimit": 2048000,
      "rowLimit": 10000
     },
     "inputWidgets": {},
     "nuid": "1a855b8f-07c1-4ebb-a23b-57b9e7af7e48",
     "showTitle": false,
     "title": ""
    }
   },
   "outputs": [
    {
     "name": "stdout",
     "output_type": "stream",
     "text": [
      "+--------+--------------------+---------------------+---------------+-------------+-------------------+------------------+----------+------------------+-------------------+------------------+------------+-----------+-----+-------+----------+------------+---------------------+------------+\n",
      "|VendorID|tpep_pickup_datetime|tpep_dropoff_datetime|passenger_count|trip_distance|   pickup_longitude|   pickup_latitude|RateCodeID|store_and_fwd_flag|  dropoff_longitude|  dropoff_latitude|payment_type|fare_amount|extra|mta_tax|tip_amount|tolls_amount|improvement_surcharge|total_amount|\n",
      "+--------+--------------------+---------------------+---------------+-------------+-------------------+------------------+----------+------------------+-------------------+------------------+------------+-----------+-----+-------+----------+------------+---------------------+------------+\n",
      "|       2| 2015-01-15 19:05:39|  2015-01-15 19:23:42|              1|         1.59|   -73.993896484375|40.750110626220703|         1|                 N|-73.974784851074219|40.750617980957031|           1|         12|    1|    0.5|      3.25|           0|                  0.3|       17.05|\n",
      "|       1| 2015-01-10 20:33:38|  2015-01-10 20:53:28|              1|         3.30| -74.00164794921875|  40.7242431640625|         1|                 N|-73.994415283203125|40.759109497070313|           1|       14.5|  0.5|    0.5|         2|           0|                  0.3|        17.8|\n",
      "|       1| 2015-01-10 20:33:38|  2015-01-10 20:43:41|              1|         1.80|-73.963340759277344|40.802787780761719|         1|                 N|-73.951820373535156|40.824413299560547|           2|        9.5|  0.5|    0.5|         0|           0|                  0.3|        10.8|\n",
      "|       1| 2015-01-10 20:33:39|  2015-01-10 20:35:31|              1|          .50|-74.009086608886719|40.713817596435547|         1|                 N|-74.004325866699219|40.719985961914063|           2|        3.5|  0.5|    0.5|         0|           0|                  0.3|         4.8|\n",
      "|       1| 2015-01-10 20:33:39|  2015-01-10 20:52:58|              1|         3.00|-73.971176147460938|40.762428283691406|         1|                 N|-74.004180908203125|40.742652893066406|           2|         15|  0.5|    0.5|         0|           0|                  0.3|        16.3|\n",
      "+--------+--------------------+---------------------+---------------+-------------+-------------------+------------------+----------+------------------+-------------------+------------------+------------+-----------+-----+-------+----------+------------+---------------------+------------+\n",
      "only showing top 5 rows\n",
      "\n",
      "root\n",
      " |-- VendorID: string (nullable = true)\n",
      " |-- tpep_pickup_datetime: string (nullable = true)\n",
      " |-- tpep_dropoff_datetime: string (nullable = true)\n",
      " |-- passenger_count: string (nullable = true)\n",
      " |-- trip_distance: string (nullable = true)\n",
      " |-- pickup_longitude: string (nullable = true)\n",
      " |-- pickup_latitude: string (nullable = true)\n",
      " |-- RateCodeID: string (nullable = true)\n",
      " |-- store_and_fwd_flag: string (nullable = true)\n",
      " |-- dropoff_longitude: string (nullable = true)\n",
      " |-- dropoff_latitude: string (nullable = true)\n",
      " |-- payment_type: string (nullable = true)\n",
      " |-- fare_amount: string (nullable = true)\n",
      " |-- extra: string (nullable = true)\n",
      " |-- mta_tax: string (nullable = true)\n",
      " |-- tip_amount: string (nullable = true)\n",
      " |-- tolls_amount: string (nullable = true)\n",
      " |-- improvement_surcharge: string (nullable = true)\n",
      " |-- total_amount: string (nullable = true)\n",
      "\n",
      "+-------+------------------+--------------------+---------------------+------------------+------------------+-------------------+------------------+------------------+------------------+-------------------+-------------------+------------------+------------------+-------------------+--------------------+------------------+-------------------+---------------------+------------------+\n",
      "|summary|          VendorID|tpep_pickup_datetime|tpep_dropoff_datetime|   passenger_count|     trip_distance|   pickup_longitude|   pickup_latitude|        RateCodeID|store_and_fwd_flag|  dropoff_longitude|   dropoff_latitude|      payment_type|       fare_amount|              extra|             mta_tax|        tip_amount|       tolls_amount|improvement_surcharge|      total_amount|\n",
      "+-------+------------------+--------------------+---------------------+------------------+------------------+-------------------+------------------+------------------+------------------+-------------------+-------------------+------------------+------------------+-------------------+--------------------+------------------+-------------------+---------------------+------------------+\n",
      "|  count|          12748986|            12748986|             12748986|          12748986|          12748986|           12748986|          12748986|          12748986|          12748986|           12748986|           12748986|          12748986|          12748986|           12748986|            12748986|          12748986|           12748986|             12748983|          12748986|\n",
      "|   mean|1.5214373127400094|                NULL|                 NULL|1.6814908260154964|13.459129611562537| -72.56183777902534| 39.97282304763482|1.0369007386156044|              NULL| -72.60903923063492|   39.9996144802455|1.3867115392549652|11.905659425777182|0.30827895724412907|  0.4977986092384132| 1.853813646041934|0.24349839430354983|   0.2831430789385838|15.108294537379894|\n",
      "| stddev|0.4995402498256227|                NULL|                 NULL| 1.337923517287465| 9844.094218468368|  10.12510359297296| 5.578690519088367|0.6732239779497601|              NULL|   9.96603703803109|  5.487741886619656|  0.49886106350539|10.302537135952251| 0.5916643112912936|0.035342286709831416|1106.4323141838956| 1.5271714003797978|   0.0690863293583079|1106.5032467104797|\n",
      "|    min|                 1| 2015-01-01 00:00:00|  2015-01-01 00:00:00|                 0|               .00|-1.3151819705963135|                 0|                 1|                 N|-0.1166670024394989|-9.0291566848754883|                 1|             -0.01|              -0.09|                -0.5|             -0.01|             -10.66|                    0|             -0.31|\n",
      "|    max|                 2| 2015-01-31 23:59:59|  2016-02-02 16:30:52|                 9|             99.90| 78.662651062011719|9.5878467559814453|                99|                 Y| 85.274024963378906| 9.9809532165527344|                 5|            999.99|             999.99|                 0.5|             99.96|             999.99|                  0.3|             99.99|\n",
      "+-------+------------------+--------------------+---------------------+------------------+------------------+-------------------+------------------+------------------+------------------+-------------------+-------------------+------------------+------------------+-------------------+--------------------+------------------+-------------------+---------------------+------------------+\n",
      "\n",
      "+-------+------------------+------------------+------------------+\n",
      "|summary|     trip_distance|   passenger_count|       fare_amount|\n",
      "+-------+------------------+------------------+------------------+\n",
      "|  count|          12748986|          12748986|          12748986|\n",
      "|   mean|13.459129611562537|1.6814908260154964|11.905659425777182|\n",
      "| stddev| 9844.094218468368| 1.337923517287465|10.302537135952251|\n",
      "|    min|               .00|                 0|             -0.01|\n",
      "|    max|             99.90|                 9|            999.99|\n",
      "+-------+------------------+------------------+------------------+\n",
      "\n"
     ]
    }
   ],
   "source": [
    "# a) schema\n",
    "df.count()\n",
    "df.show(5)\n",
    "df.columns\n",
    "df.printSchema()\n",
    "df.describe().show()\n",
    "\n",
    "# b) basic stats\n",
    "df.select(\"trip_distance\", \"passenger_count\", \"fare_amount\").describe().show()"
   ]
  },
  {
   "cell_type": "markdown",
   "metadata": {
    "application/vnd.databricks.v1+cell": {
     "cellMetadata": {
      "byteLimit": 2048000,
      "rowLimit": 10000
     },
     "inputWidgets": {},
     "nuid": "48904059-7500-4b76-a344-464a4cf7ddd1",
     "showTitle": false,
     "title": ""
    }
   },
   "source": [
    "**Data Cleaning**"
   ]
  },
  {
   "cell_type": "code",
   "execution_count": 4,
   "metadata": {
    "application/vnd.databricks.v1+cell": {
     "cellMetadata": {
      "byteLimit": 2048000,
      "rowLimit": 10000
     },
     "inputWidgets": {},
     "nuid": "cd359903-cda6-46f9-92dc-d2592f38774d",
     "showTitle": false,
     "title": ""
    }
   },
   "outputs": [
    {
     "name": "stdout",
     "output_type": "stream",
     "text": [
      "+--------------------+---------------------+-------------+------------------+------------------+\n",
      "|tpep_pickup_datetime|tpep_dropoff_datetime|trip_distance|     trip_duration|    trip_speed_mph|\n",
      "+--------------------+---------------------+-------------+------------------+------------------+\n",
      "| 2015-01-15 19:05:39|  2015-01-15 19:23:42|         1.59|             18.05| 5.285318559556787|\n",
      "| 2015-01-10 20:33:38|  2015-01-10 20:53:28|         3.30|19.833333333333332| 9.983193277310924|\n",
      "| 2015-01-10 20:33:38|  2015-01-10 20:43:41|         1.80|             10.05|10.746268656716417|\n",
      "| 2015-01-10 20:33:39|  2015-01-10 20:52:58|         3.00|19.316666666666666| 9.318377911993098|\n",
      "| 2015-01-10 20:33:39|  2015-01-10 20:53:52|         9.00|20.216666666666665|26.710634789777412|\n",
      "| 2015-01-10 20:33:39|  2015-01-10 20:58:31|         2.20|24.866666666666667|5.3083109919571045|\n",
      "| 2015-01-10 20:33:39|  2015-01-10 21:11:35|        18.20| 37.93333333333333|28.787346221441126|\n",
      "| 2015-01-10 20:33:41|  2015-01-10 20:43:26|         1.10|              9.75| 6.769230769230769|\n",
      "| 2015-01-10 20:33:41|  2015-01-10 21:03:04|         3.10|29.383333333333333|  6.33011911514464|\n",
      "| 2015-01-10 20:33:41|  2015-01-10 20:39:23|         1.10|               5.7|11.578947368421053|\n",
      "| 2015-01-15 19:05:39|  2015-01-15 19:32:00|         2.38|             26.35| 5.419354838709677|\n",
      "| 2015-01-15 19:05:40|  2015-01-15 19:21:00|         2.83|15.333333333333334| 11.07391304347826|\n",
      "| 2015-01-15 19:05:40|  2015-01-15 19:28:18|         8.33|22.633333333333333|22.082474226804123|\n",
      "| 2015-01-15 19:05:41|  2015-01-15 19:20:36|         2.37|14.916666666666666|  9.53296089385475|\n",
      "| 2015-01-15 19:05:41|  2015-01-15 19:20:22|         7.13|14.683333333333334|29.135073779795686|\n",
      "| 2015-01-15 19:05:41|  2015-01-15 19:31:00|         3.60|25.316666666666666| 8.531928900592495|\n",
      "| 2015-01-15 19:05:41|  2015-01-15 19:12:36|         1.25| 6.916666666666667|10.843373493975903|\n",
      "| 2015-01-15 19:05:41|  2015-01-15 19:22:11|         2.11|              16.5| 7.672727272727272|\n",
      "| 2015-01-15 19:05:41|  2015-01-15 19:14:05|         1.15|               8.4| 8.214285714285714|\n",
      "| 2015-01-15 19:05:42|  2015-01-15 19:16:18|         1.53|              10.6| 8.660377358490566|\n",
      "+--------------------+---------------------+-------------+------------------+------------------+\n",
      "only showing top 20 rows\n",
      "\n"
     ]
    }
   ],
   "source": [
    "# a) handle missing values\n",
    "df = df.dropna(subset=[\"fare_amount\", \"trip_distance\", \"passenger_count\"])\n",
    "\n",
    "# b) filter out rows w/ invalid data\n",
    "df = df.filter((col(\"fare_amount\") >= 0) & (col(\"trip_distance\") > 0))\n",
    "\n",
    "# c) convert `pickup_datetime` and `dropoff_datetime` to timestamp \n",
    "df = df.withColumn(\"tpep_pickup_datetime\", col(\"tpep_pickup_datetime\").cast(TimestampType())) \\\n",
    "       .withColumn(\"tpep_dropoff_datetime\", col(\"tpep_dropoff_datetime\").cast(TimestampType()))\n",
    "\n",
    "# d) create new columns (trip duration in min, trip speed in mph)\n",
    "## trip duration in min\n",
    "df = df.withColumn(\"trip_duration\", \n",
    "                   (unix_timestamp(\"tpep_dropoff_datetime\") - unix_timestamp(\"tpep_pickup_datetime\")) / 60)\n",
    "\n",
    "## trip speed in mph\n",
    "df = df.withColumn(\"trip_speed_mph\", \n",
    "                   col(\"trip_distance\") / (col(\"trip_duration\") / 60))\n",
    "\n",
    "## display\n",
    "df.select(\"tpep_pickup_datetime\", \"tpep_dropoff_datetime\", \"trip_distance\", \"trip_duration\", \"trip_speed_mph\").show()"
   ]
  },
  {
   "cell_type": "markdown",
   "metadata": {
    "application/vnd.databricks.v1+cell": {
     "cellMetadata": {
      "byteLimit": 2048000,
      "rowLimit": 10000
     },
     "inputWidgets": {},
     "nuid": "607542fd-819d-4890-8c9f-deaaaf6c6629",
     "showTitle": false,
     "title": ""
    }
   },
   "source": [
    "**Exploratory Data Analysis**"
   ]
  },
  {
   "cell_type": "code",
   "execution_count": 5,
   "metadata": {
    "application/vnd.databricks.v1+cell": {
     "cellMetadata": {
      "byteLimit": 2048000,
      "rowLimit": 10000
     },
     "inputWidgets": {},
     "nuid": "e2235d81-8a9a-4881-89a2-7c38d1141460",
     "showTitle": false,
     "title": ""
    }
   },
   "outputs": [
    {
     "name": "stdout",
     "output_type": "stream",
     "text": [
      "+---------------+------------------+------------------+\n",
      "|passenger_count|          avg_fare| avg_trip_distance|\n",
      "+---------------+------------------+------------------+\n",
      "|              0|12.629703217036703|2.9593565926597196|\n",
      "|              1|13.783244978642951| 19.47261672947003|\n",
      "|              2| 14.39648922514727| 23.21089248745783|\n",
      "|              3|14.047644861652818| 3.507215191742226|\n",
      "|              4|14.084869458971731|3.5184828918914657|\n",
      "|              5|14.038761170462626|3.5415687791111097|\n",
      "|              6|13.881488168620832| 3.471021849944472|\n",
      "|              7|              14.0|3.8166666666666664|\n",
      "|              8|              33.5| 7.263333333333333|\n",
      "|              9|              69.7|            15.962|\n",
      "+---------------+------------------+------------------+\n",
      "\n",
      "+----+------------+\n",
      "|hour|pickup_count|\n",
      "+----+------------+\n",
      "|  19|      603362|\n",
      "|  18|      595689|\n",
      "|  20|      568158|\n",
      "|  21|      564911|\n",
      "|  22|      554218|\n",
      "|  17|      497858|\n",
      "|  23|      482178|\n",
      "|  14|      479062|\n",
      "|  15|      474468|\n",
      "|  13|      458788|\n",
      "|  12|      456124|\n",
      "|  11|      430370|\n",
      "|  16|      425170|\n",
      "|   9|      414565|\n",
      "|  10|      409490|\n",
      "|   8|      408385|\n",
      "|   0|      382255|\n",
      "|   7|      348376|\n",
      "|   1|      289619|\n",
      "|   2|      218905|\n",
      "+----+------------+\n",
      "only showing top 20 rows\n",
      "\n"
     ]
    }
   ],
   "source": [
    "# a) calculate avg fare and avg trip distance grouped by num of passengers\n",
    "df.groupBy(\"passenger_count\") \\\n",
    "  .agg(avg(\"fare_amount\").alias(\"avg_fare\"), avg(\"trip_distance\").alias(\"avg_trip_distance\")) \\\n",
    "  .orderBy(\"passenger_count\") \\\n",
    "  .show()\n",
    "\n",
    "# b) busiest times of day for taxi pickup\n",
    "df.groupBy(hour(\"tpep_pickup_datetime\").alias(\"hour\")) \\\n",
    "  .agg(count(\"*\").alias(\"pickup_count\")) \\\n",
    "  .orderBy(\"pickup_count\", ascending=False) \\\n",
    "  .show()\n"
   ]
  },
  {
   "cell_type": "code",
   "execution_count": 6,
   "metadata": {},
   "outputs": [
    {
     "name": "stdout",
     "output_type": "stream",
     "text": [
      "+--------+--------------------+---------------------+---------------+-------------+-------------------+------------------+----------+------------------+-------------------+------------------+------------+-----------+-----+-------+----------+------------+---------------------+------------+------------------+------------------+----------+\n",
      "|VendorID|tpep_pickup_datetime|tpep_dropoff_datetime|passenger_count|trip_distance|   pickup_longitude|   pickup_latitude|RateCodeID|store_and_fwd_flag|  dropoff_longitude|  dropoff_latitude|payment_type|fare_amount|extra|mta_tax|tip_amount|tolls_amount|improvement_surcharge|total_amount|     trip_duration|    trip_speed_mph|PostalCode|\n",
      "+--------+--------------------+---------------------+---------------+-------------+-------------------+------------------+----------+------------------+-------------------+------------------+------------+-----------+-----+-------+----------+------------+---------------------+------------+------------------+------------------+----------+\n",
      "|       2| 2015-01-15 19:05:39|  2015-01-15 19:23:42|              1|         1.59|   -73.993896484375|40.750110626220703|         1|                 N|-73.974784851074219|40.750617980957031|           1|         12|    1|    0.5|      3.25|           0|                  0.3|       17.05|             18.05| 5.285318559556787|     10001|\n",
      "|       1| 2015-01-10 20:33:38|  2015-01-10 20:53:28|              1|         3.30| -74.00164794921875|  40.7242431640625|         1|                 N|-73.994415283203125|40.759109497070313|           1|       14.5|  0.5|    0.5|         2|           0|                  0.3|        17.8|19.833333333333332| 9.983193277310924|     10012|\n",
      "|       1| 2015-01-10 20:33:38|  2015-01-10 20:43:41|              1|         1.80|-73.963340759277344|40.802787780761719|         1|                 N|-73.951820373535156|40.824413299560547|           2|        9.5|  0.5|    0.5|         0|           0|                  0.3|        10.8|             10.05|10.746268656716417|     10025|\n",
      "|       1| 2015-01-10 20:33:39|  2015-01-10 20:52:58|              1|         3.00|-73.971176147460938|40.762428283691406|         1|                 N|-74.004180908203125|40.742652893066406|           2|         15|  0.5|    0.5|         0|           0|                  0.3|        16.3|19.316666666666666| 9.318377911993098|     10022|\n",
      "|       1| 2015-01-10 20:33:39|  2015-01-10 20:53:52|              1|         9.00|-73.874374389648438|  40.7740478515625|         1|                 N|-73.986976623535156|40.758193969726563|           1|         27|  0.5|    0.5|       6.7|        5.33|                  0.3|       40.33|20.216666666666665|26.710634789777412|     11371|\n",
      "+--------+--------------------+---------------------+---------------+-------------+-------------------+------------------+----------+------------------+-------------------+------------------+------------+-----------+-----+-------+----------+------------+---------------------+------------+------------------+------------------+----------+\n",
      "only showing top 5 rows\n",
      "\n"
     ]
    }
   ],
   "source": [
    "# c) neighbourhoods w/ highest average fare amount\n",
    "\n",
    "# # k-means method\n",
    "# df_casted = df.withColumn(\"pickup_longitude\", col(\"pickup_longitude\").cast(\"double\")) \\\n",
    "#               .withColumn(\"pickup_latitude\", col(\"pickup_latitude\").cast(\"double\"))\n",
    "\n",
    "# assembler = VectorAssembler(inputCols=[\"pickup_longitude\", \"pickup_latitude\"], outputCol=\"features\")\n",
    "# df_kmeans = assembler.transform(df_casted)\n",
    "\n",
    "# kmeans = KMeans(k=10, seed=1)  \n",
    "# model = kmeans.fit(df_kmeans)\n",
    "# df_clusters = model.transform(df_kmeans).withColumnRenamed(\"prediction\", \"cluster\")\n",
    "\n",
    "# cluster_avg_fare = df_clusters.groupBy(\"cluster\").agg(avg(\"fare_amount\").alias(\"avg_fare\")).orderBy(\"avg_fare\", ascending=False)\n",
    "# cluster_avg_fare.show()\n",
    "\n",
    "from geopy.geocoders import Nominatim\n",
    "import time\n",
    "\n",
    "geolocator = Nominatim(user_agent=\"databricks_geocoder\")\n",
    "\n",
    "def get_postal_code(lat, lon):\n",
    "    try:\n",
    "        location = geolocator.reverse(f\"{lat}, {lon}\", language=\"en\", timeout=10)\n",
    "        time.sleep(1)\n",
    "        if location and \"postcode\" in location.raw[\"address\"]:\n",
    "            return location.raw[\"address\"][\"postcode\"]\n",
    "        else:\n",
    "            return None\n",
    "    except Exception as e:\n",
    "        return None\n",
    "\n",
    "## only works with ~10 otherwise crashes. IF CRASHES with ConnectionRefusedError or similar, restart VScode\n",
    "df_sample = df.limit(10)\n",
    "df_gpd = df_sample.toPandas()\n",
    "df_gpd[\"PostalCode\"] = df_gpd.apply(lambda row: get_postal_code(row[\"pickup_latitude\"], row[\"pickup_longitude\"]), axis=1)\n",
    "\n",
    "df_gpd_spark = spark.createDataFrame(df_gpd)\n",
    "df_gpd_spark.show(5)"
   ]
  },
  {
   "cell_type": "markdown",
   "metadata": {},
   "source": [
    "_alternate method for neighbourhoods w/ highest average fare amount using Taxi Zones GeoJSON File_"
   ]
  },
  {
   "cell_type": "code",
   "execution_count": 23,
   "metadata": {
    "application/vnd.databricks.v1+cell": {
     "cellMetadata": {
      "byteLimit": 2048000,
      "rowLimit": 10000
     },
     "inputWidgets": {},
     "nuid": "63809bd3-bc3a-48bc-b288-19ea42766e34",
     "showTitle": false,
     "title": ""
    }
   },
   "outputs": [],
   "source": [
    "# nbhds_gdf = gpd.read_file(\"NYC Taxi Zones.geojson\")[[\"zone\", \"geometry\"]]\n",
    "\n",
    "# # VScode memory issues cause limit to be ~ 1000. (not useable); can be run on Databricks with no issue\n",
    "# pandas_df = df.select(\"pickup_longitude\", \"pickup_latitude\", \"fare_amount\").limit(1000).toPandas()\n",
    "# pandas_df['geometry'] = [Point(xy) for xy in zip(pandas_df.pickup_longitude, pandas_df.pickup_latitude)]\n",
    "# trips_gdf = gpd.GeoDataFrame(pandas_df, geometry='geometry', crs=\"EPSG:4326\")\n",
    "\n",
    "# joined_gdf = gpd.sjoin(trips_gdf, nbhds_gdf, how=\"left\", predicate=\"intersects\")\n",
    "\n",
    "# joined_df_spark = SparkSession.builder.getOrCreate().createDataFrame(joined_gdf.drop(columns='geometry'))\n",
    "# joined_df_spark = joined_df_spark.withColumn(\"fare_amount\", col(\"fare_amount\").cast(\"double\"))\n",
    "# avg_fare_df = joined_df_spark.groupBy(\"zone\").avg(\"fare_amount\").orderBy(\"avg(fare_amount)\", ascending=False)\n",
    "# avg_fare_df.show()"
   ]
  },
  {
   "cell_type": "markdown",
   "metadata": {
    "application/vnd.databricks.v1+cell": {
     "cellMetadata": {
      "byteLimit": 2048000,
      "rowLimit": 10000
     },
     "inputWidgets": {},
     "nuid": "accfc922-6208-41a2-85e3-062f64e9f539",
     "showTitle": false,
     "title": ""
    }
   },
   "source": [
    "**Visualizing the Data**"
   ]
  },
  {
   "cell_type": "code",
   "execution_count": 93,
   "metadata": {
    "application/vnd.databricks.v1+cell": {
     "cellMetadata": {
      "byteLimit": 2048000,
      "rowLimit": 10000
     },
     "inputWidgets": {},
     "nuid": "f2a38369-f2aa-43dc-aab2-dadc30bbb988",
     "showTitle": false,
     "title": ""
    }
   },
   "outputs": [
    {
     "data": {
      "image/png": "[encoded data removed]",
      "text/plain": [
       "<Figure size 640x480 with 1 Axes>"
      ]
     },
     "metadata": {},
     "output_type": "display_data"
    },
    {
     "data": {
      "image/png": "[encoded data removed]",
      "text/plain": [
       "<Figure size 640x480 with 1 Axes>"
      ]
     },
     "metadata": {},
     "output_type": "display_data"
    }
   ],
   "source": [
    "pandas_df = df.select(\"trip_distance\", \"fare_amount\", \"tpep_pickup_datetime\").limit(10000).toPandas()\n",
    "\n",
    "# a) distribution plot of trip distances\n",
    "pandas_df['trip_distance'] = pd.to_numeric(pandas_df['trip_distance'], errors='coerce')\n",
    "pandas_df = pandas_df.dropna(subset=['trip_distance'])\n",
    "filtered_df = pandas_df[pandas_df['trip_distance'] <= 25]\n",
    "\n",
    "ax = sns.histplot(data=filtered_df, x='trip_distance', bins=50, kde=True)\n",
    "\n",
    "plt.title('Distribution of Trip Distances', fontsize=12)\n",
    "plt.xlabel('Trip Distance (miles)', fontsize=10) \n",
    "plt.ylabel('Frequency', fontsize=10)\n",
    "\n",
    "plt.yticks(fontsize=8)\n",
    "plt.xticks(fontsize=8)\n",
    "\n",
    "plt.grid(True)\n",
    "plt.show()\n",
    "\n",
    "# b) average fares by hour of day\n",
    "pandas_df['tpep_pickup_datetime'] = pd.to_datetime(pandas_df['tpep_pickup_datetime'])\n",
    "pandas_df['fare_amount'] = pd.to_numeric(pandas_df['fare_amount'], errors='coerce')\n",
    "pandas_df['hour'] = pandas_df['tpep_pickup_datetime'].dt.hour\n",
    "avg_fph = pandas_df.groupby('hour')['fare_amount'].mean().reset_index()\n",
    "avg_fph.columns = ['Hour of Day', 'Average Fare Amount']\n",
    "\n",
    "sns.pointplot(data=avg_fph, x='Hour of Day', y='Average Fare Amount', marker='o',\n",
    "                  linewidth=2, markersize=5)\n",
    "\n",
    "plt.title('Average Fare Amount by Hour of Day', fontsize=12)\n",
    "plt.xlabel('Hour of Day', fontsize=10)\n",
    "plt.ylabel('Average Fare Amount ($)', fontsize=10)\n",
    "\n",
    "plt.xticks(ticks=[0, 3, 6, 9, 12, 15, 18, 21], fontsize=8)\n",
    "plt.yticks(fontsize=8)\n",
    "\n",
    "plt.grid(True)\n",
    "plt.show()"
   ]
  },
  {
   "cell_type": "code",
   "execution_count": null,
   "metadata": {},
   "outputs": [],
   "source": [
    "pandas_df = df.select(\"trip_distance\", \"fare_amount\", \"tpep_pickup_datetime\").limit(10000).toPandas()\n",
    "\n",
    "# a) distribution plot of trip distances\n",
    "pandas_df['trip_distance'] = pd.to_numeric(pandas_df['trip_distance'], errors='coerce')\n",
    "pandas_df = pandas_df.dropna(subset=['trip_distance'])\n",
    "filtered_df = pandas_df[pandas_df['trip_distance'] <= 25]\n",
    "\n",
    "ax = sns.histplot(data=filtered_df, x='trip_distance', bins=50, kde=True)\n",
    "\n",
    "plt.title('Distribution of Trip Distances', fontsize=14)\n",
    "plt.xlabel('Trip Distance (miles)', fontsize=10) \n",
    "plt.ylabel('Frequency', fontsize=10)\n",
    "\n",
    "plt.yticks(fontsize=8)\n",
    "plt.xticks(rotation=45, fontsize=8)\n",
    "\n",
    "plt.grid(True)\n",
    "plt.show()\n",
    "\n",
    "# b) average fares by hour of day\n",
    "pandas_df['tpep_pickup_datetime'] = pd.to_datetime(pandas_df['tpep_pickup_datetime'])\n",
    "pandas_df['fare_amount'] = pd.to_numeric(pandas_df['fare_amount'], errors='coerce')\n",
    "pandas_df['hour'] = pandas_df['tpep_pickup_datetime'].dt.hour\n",
    "\n",
    "avg_fph = pandas_df.groupby('hour')['fare_amount'].mean().reset_index()\n",
    "avg_fph.columns = ['Hour of Day', 'Average Fare Amount']\n",
    "\n",
    "\n",
    "sns.heatmap(heatmap_data, annot=True, fmt=\".2f\", cmap=\"Blues\", cbar_kws={'label': 'Average Fare Amount ($)'})\n",
    "\n",
    "plt.title('Average Fare Amount by Hour of Day', fontsize=14)\n",
    "plt.xlabel('Hour of Day', fontsize=10)\n",
    "plt.ylabel('Average Fare Amount ($)', fontsize=10)\n",
    "plt.xticks(rotation=45)\n",
    "\n",
    "plt.grid(True)\n",
    "plt.show()"
   ]
  }
 ],
 "metadata": {
  "application/vnd.databricks.v1+notebook": {
   "dashboards": [],
   "environmentMetadata": null,
   "language": "python",
   "notebookMetadata": {
    "pythonIndentUnit": 4
   },
   "notebookName": "Untitled Notebook 2024-09-24 11:47:40",
   "widgets": {}
  },
  "kernelspec": {
   "display_name": "Python 3",
   "language": "python",
   "name": "python3"
  },
  "language_info": {
   "codemirror_mode": {
    "name": "ipython",
    "version": 3
   },
   "file_extension": ".py",
   "mimetype": "text/x-python",
   "name": "python",
   "nbconvert_exporter": "python",
   "pygments_lexer": "ipython3",
   "version": "3.9.13"
  }
 },
 "nbformat": 4,
 "nbformat_minor": 0
}
